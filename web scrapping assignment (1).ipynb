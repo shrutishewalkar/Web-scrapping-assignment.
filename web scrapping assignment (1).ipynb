{
 "cells": [
  {
   "cell_type": "markdown",
   "id": "f1d70817-2287-4ed0-bc3e-cc4be984daaf",
   "metadata": {},
   "source": [
    "Q1. What is Web Scraping? Why is it Used? Give three areas where Web Scraping is used to get data."
   ]
  },
  {
   "cell_type": "markdown",
   "id": "0c40604a-f839-48ad-8d68-b8086669b978",
   "metadata": {},
   "source": [
    "Ans: Web scraping, also known as web data extraction or web harvesting, is the process of extracting and collecting data from websites using automated tools or software. It involves using a program or script to access the HTML or other structured data on a website and extracting specific information from it.\n",
    "\n",
    "Web scraping is used for various purposes such as gathering market intelligence, research, analytics, and other business-related activities. It is a useful technique for collecting data from websites that do not offer an API or have limited access to their data.\n",
    "\n",
    "Web scraping can be a valuable tool for data scientists who need to collect data from various sources, including websites. By extracting data from websites using web scraping, data scientists can gather relevant data to create predictive models, perform statistical analysis, or perform other data-related tasks.\n",
    "\n",
    "Here are three areas where web scraping is commonly used to get data:\n",
    "\n",
    "E-commerce and price monitoring: Web scraping can be used to monitor e-commerce websites to collect product data, such as product descriptions, images, and pricing, to track pricing changes and compare prices across multiple sites.\n",
    "\n",
    "Social media analysis: Web scraping can be used to collect data from social media platforms, such as Facebook, Twitter, and Instagram, to analyze social media sentiment, track hashtags, and monitor user engagement.\n",
    "\n",
    "Research and journalism: Web scraping can be used by researchers and journalists to collect data on various topics, including news articles, public records, and other online sources, to support their research and writing."
   ]
  },
  {
   "cell_type": "markdown",
   "id": "19c4b718-3e20-496b-bf21-1f81a440db2e",
   "metadata": {},
   "source": [
    "Q2  What are the different methods used for Web Scraping?"
   ]
  },
  {
   "cell_type": "markdown",
   "id": "578028a4-8d0f-40e2-8928-5d127243dbe9",
   "metadata": {},
   "source": [
    "Ans:There are several methods used for web scraping, each with its own advantages and disadvantages. Here are some of the most commonly used methods:\n",
    "\n",
    "HTML parsing: This method involves parsing the HTML source code of a website to extract specific information, such as text or images. HTML parsing can be done using tools such as Beautiful Soup and lxml.\n",
    "\n",
    "Regular expressions: This method involves using regular expressions to search for and extract specific patterns of text from a website's HTML code. Regular expressions can be powerful but can also be difficult to create and maintain.\n",
    "\n",
    "Web scraping tools: There are many web scraping tools available that can be used to extract data from websites, such as Scrapy, Selenium, and Puppeteer. These tools allow for more advanced web scraping techniques, such as navigating websites, interacting with forms, and handling dynamic content.\n",
    "\n",
    "APIs: Some websites offer APIs (Application Programming Interfaces) that can be used to extract data in a structured format. APIs are generally more reliable and easier to use than web scraping, but they may not offer all the data that is available on the website.\n",
    "\n",
    "Browser extensions: Some browser extensions, such as Data Miner and Web Scraper, allow users to extract data from websites by interacting with the page directly. These extensions are typically easy to use but may be limited in functionality compared to other web scraping methods."
   ]
  },
  {
   "cell_type": "markdown",
   "id": "2a54dfd1-b484-42eb-8dbc-81585d8ba66b",
   "metadata": {},
   "source": [
    "Q3 what is beautiful soup? why it is used?"
   ]
  },
  {
   "cell_type": "markdown",
   "id": "8d3674b7-2fa5-403a-b38c-1fcf9744797e",
   "metadata": {},
   "source": [
    "Ans: Beautiful Soup is a Python library that is used for web scraping purposes. It allows developers to parse HTML and XML documents, and extract useful information from them. The library gets its name from a poem of the same name by Lewis Carroll, which refers to the idea of making sense out of chaos.\n",
    "\n",
    "It is a valuable tool for developers who need to extract data from websites for a variety of applications, including data analysis, machine learning, and research. Also, it allows developers to search for specific tags and attributes, as well as navigate the document tree. With Beautiful Soup, developers can easily extract text, images, links, and other content from a website's HTML code."
   ]
  },
  {
   "cell_type": "markdown",
   "id": "0b1cefc4-e5bf-4668-be68-cf9b4392c88a",
   "metadata": {},
   "source": [
    "Q4. Why is flask used in this Web Scraping project?"
   ]
  },
  {
   "cell_type": "markdown",
   "id": "4d60b892-6d5e-4f30-9434-f0dd5a6a20c3",
   "metadata": {},
   "source": [
    "Ans:During the project that was built today, Flask was utilized to construct a basic front-end web application. To accomplish this, a Flask application was first created, which acted as the foundation of the entire project.\n",
    "\n",
    "This web page contained a text box, which allowed the users to input a specific product's name. Additionally, a button was included on this page, which could be clicked to initiate a request for information regarding the product. Upon clicking this button, the user would be directed to a new page, where various product details would be rendered. These details include information such as product pricing, ratings, and reviews."
   ]
  },
  {
   "cell_type": "code",
   "execution_count": null,
   "id": "02bd11d7-ebdb-4f61-a3c5-f62d15527c80",
   "metadata": {},
   "outputs": [],
   "source": []
  }
 ],
 "metadata": {
  "kernelspec": {
   "display_name": "Python 3 (ipykernel)",
   "language": "python",
   "name": "python3"
  },
  "language_info": {
   "codemirror_mode": {
    "name": "ipython",
    "version": 3
   },
   "file_extension": ".py",
   "mimetype": "text/x-python",
   "name": "python",
   "nbconvert_exporter": "python",
   "pygments_lexer": "ipython3",
   "version": "3.10.8"
  }
 },
 "nbformat": 4,
 "nbformat_minor": 5
}
